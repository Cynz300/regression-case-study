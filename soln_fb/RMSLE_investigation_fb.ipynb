{
 "cells": [
  {
   "cell_type": "markdown",
   "metadata": {},
   "source": [
    "### Investigate how Root-Mean-Squared-Log-error is different from Root-Mean-Square-Error\n",
    "\n",
    "RMSLE is supposed to penalize an under-predicted estimate more than an over-predicted estimate.  This investigation will explore it to see if the RMSLE should be used as the error metric during training."
   ]
  },
  {
   "cell_type": "code",
   "execution_count": 1,
   "metadata": {
    "collapsed": true
   },
   "outputs": [],
   "source": [
    "import numpy as np"
   ]
  },
  {
   "cell_type": "markdown",
   "metadata": {},
   "source": [
    "### Make the data"
   ]
  },
  {
   "cell_type": "code",
   "execution_count": 2,
   "metadata": {
    "collapsed": false
   },
   "outputs": [],
   "source": [
    "np.random.seed(42)\n",
    "\n",
    "start, stop = 0.5, 9.5\n",
    "X = np.linspace(start, stop, num=20, endpoint=True, retstep=False, dtype=None).round(2)\n",
    "\n",
    "a0 = 5\n",
    "a1 = 1\n",
    "a2 = 0\n",
    "y = (a0 + a1*X + a2*X**2).round(2)\n",
    "\n",
    "noise_mag = 8 # magnitude (+ or -) will be half this\n",
    "noise = ((np.random.rand(len(y))-0.5)*noise_mag).round(2)\n",
    "y += noise # add noise"
   ]
  },
  {
   "cell_type": "markdown",
   "metadata": {},
   "source": [
    "### Plot it"
   ]
  },
  {
   "cell_type": "code",
   "execution_count": 3,
   "metadata": {
    "collapsed": false
   },
   "outputs": [
    {
     "data": {
      "image/png": "[encoded data removed]",
      "text/plain": [
       "<matplotlib.figure.Figure at 0x109afc250>"
      ]
     },
     "metadata": {},
     "output_type": "display_data"
    }
   ],
   "source": [
    "import matplotlib.pyplot as plt\n",
    "%matplotlib inline\n",
    "fig = plt.figure()\n",
    "ax = fig.add_subplot(111)\n",
    "ax.plot(X, y, 'ko', markersize = 5)\n",
    "ax.set_xlabel('X')\n",
    "ax.set_ylabel('y')\n",
    "ax.set_xlim([0,10])\n",
    "ax.set_ylim([0,16]);"
   ]
  },
  {
   "cell_type": "markdown",
   "metadata": {},
   "source": [
    "### Make the loss functions"
   ]
  },
  {
   "cell_type": "code",
   "execution_count": 4,
   "metadata": {
    "collapsed": true
   },
   "outputs": [],
   "source": [
    "def root_mean_sq_error(y_true, y_pred):\n",
    "    return np.sqrt(np.mean((y_true - y_pred)**2))\n",
    "\n",
    "def root_mean_sq_log_error(y_true, y_pred):\n",
    "    return np.sqrt(np.mean((np.log(y_true + 1) - np.log(y_pred+1))**2))"
   ]
  },
  {
   "cell_type": "markdown",
   "metadata": {},
   "source": [
    "### Fit the model"
   ]
  },
  {
   "cell_type": "code",
   "execution_count": 5,
   "metadata": {
    "collapsed": false
   },
   "outputs": [],
   "source": [
    "from sklearn.linear_model import LinearRegression"
   ]
  },
  {
   "cell_type": "code",
   "execution_count": 6,
   "metadata": {
    "collapsed": false
   },
   "outputs": [],
   "source": [
    "lr = LinearRegression()\n",
    "X = X.reshape(-1, 1)\n",
    "y = y.reshape(-1, 1)"
   ]
  },
  {
   "cell_type": "code",
   "execution_count": 7,
   "metadata": {
    "collapsed": false
   },
   "outputs": [
    {
     "name": "stdout",
     "output_type": "stream",
     "text": [
      "5.65 0.8\n"
     ]
    }
   ],
   "source": [
    "lr.fit(X, y)\n",
    "b, m = round(lr.intercept_[0],2), round(lr.coef_[0][0],2)\n",
    "print b, m"
   ]
  },
  {
   "cell_type": "code",
   "execution_count": 8,
   "metadata": {
    "collapsed": false
   },
   "outputs": [],
   "source": [
    "y_pred = m*X + b  # OLS fit"
   ]
  },
  {
   "cell_type": "code",
   "execution_count": 9,
   "metadata": {
    "collapsed": false
   },
   "outputs": [
    {
     "data": {
      "image/png": "[encoded data removed]",
      "text/plain": [
       "<matplotlib.figure.Figure at 0x10fd62790>"
      ]
     },
     "metadata": {},
     "output_type": "display_data"
    }
   ],
   "source": [
    "fig = plt.figure()\n",
    "ax = fig.add_subplot(111)\n",
    "ax.plot(X, y, 'ko', markersize = 5, label = 'data')\n",
    "ax.plot(X, y_pred, 'b-', markersize = 3, label = 'fit OLS')\n",
    "#ax.set_aspect('equal')\n",
    "ax.set_xlabel('X')\n",
    "ax.set_ylabel('y');\n",
    "ax.set_xlim([0,10])\n",
    "ax.set_ylim([0,16])\n",
    "ax.legend(loc = 'best');"
   ]
  },
  {
   "cell_type": "markdown",
   "metadata": {},
   "source": [
    "### Calculate error functions"
   ]
  },
  {
   "cell_type": "code",
   "execution_count": 10,
   "metadata": {
    "collapsed": false
   },
   "outputs": [
    {
     "name": "stdout",
     "output_type": "stream",
     "text": [
      "2.34 0.25\n"
     ]
    }
   ],
   "source": [
    "rmse_pred = root_mean_sq_error(y, y_pred).round(2)\n",
    "rmsle_pred = root_mean_sq_log_error(y, y_pred).round(2)\n",
    "print rmse_pred, rmsle_pred"
   ]
  },
  {
   "cell_type": "markdown",
   "metadata": {},
   "source": [
    "### Now investigate effect of over and under-predicting on RMSLE and RMSE by changing the intercept, b, by an equal amount above and below the fit."
   ]
  },
  {
   "cell_type": "code",
   "execution_count": 11,
   "metadata": {
    "collapsed": false
   },
   "outputs": [
    {
     "name": "stdout",
     "output_type": "stream",
     "text": [
      "3.07 0.33\n"
     ]
    }
   ],
   "source": [
    "b_up = b + 2\n",
    "y_up = m*X + b_up  \n",
    "rmse_bup = root_mean_sq_error(y, y_up).round(2)\n",
    "rmsle_bup = root_mean_sq_log_error(y, y_up).round(2)\n",
    "print rmse_bup, rmsle_bup"
   ]
  },
  {
   "cell_type": "code",
   "execution_count": 12,
   "metadata": {
    "collapsed": false
   },
   "outputs": [
    {
     "name": "stdout",
     "output_type": "stream",
     "text": [
      "3.09 0.32\n"
     ]
    }
   ],
   "source": [
    "b_down = b - 2\n",
    "y_down = m*X + b_down  \n",
    "rmse_bdown = root_mean_sq_error(y, y_down).round(2)\n",
    "rmsle_bdown = root_mean_sq_log_error(y, y_down).round(2)\n",
    "print rmse_bdown, rmsle_bdown"
   ]
  },
  {
   "cell_type": "markdown",
   "metadata": {},
   "source": [
    "### Plot them"
   ]
  },
  {
   "cell_type": "code",
   "execution_count": 13,
   "metadata": {
    "collapsed": false
   },
   "outputs": [
    {
     "data": {
      "image/png": "[encoded data removed]",
      "text/plain": [
       "<matplotlib.figure.Figure at 0x10fe05810>"
      ]
     },
     "metadata": {},
     "output_type": "display_data"
    }
   ],
   "source": [
    "fig = plt.figure()\n",
    "ax = fig.add_subplot(111)\n",
    "ax.plot(X, y, 'ko', markersize = 5)\n",
    "ax.plot(X, y_pred,  'g-', label = 'RMSLE: '+str(rmsle_pred) +', RMSE: '+str(rmse_pred))\n",
    "ax.plot(X, y_up,   'r--', label = 'RMSLE: '+str(rmsle_bup)  +', RMSE: '+str(rmse_bup))\n",
    "ax.plot(X, y_down, 'b--', label = 'RMSLE: '+str(rmsle_bdown)+', RMSE: '+str(rmse_bdown))\n",
    "#ax.set_aspect('equal')\n",
    "ax.set_xlabel('X')\n",
    "ax.set_ylabel('y');\n",
    "ax.set_xlim([0,10])\n",
    "ax.set_ylim([0,16]);\n",
    "ax.legend(loc = 'best');"
   ]
  },
  {
   "cell_type": "markdown",
   "metadata": {},
   "source": [
    "### Based on the investigation above I don't see a huge difference in the RMSLE for over or underpredicting, and it seems to follow the RMSE closely.  As a first pass I'm not going to worry about the RMSLE as an error function and will be fine with RMSE (or MSE)."
   ]
  },
  {
   "cell_type": "code",
   "execution_count": null,
   "metadata": {
    "collapsed": true
   },
   "outputs": [],
   "source": []
  }
 ],
 "metadata": {
  "anaconda-cloud": {},
  "kernelspec": {
   "display_name": "Python [conda root]",
   "language": "python",
   "name": "conda-root-py"
  },
  "language_info": {
   "codemirror_mode": {
    "name": "ipython",
    "version": 2
   },
   "file_extension": ".py",
   "mimetype": "text/x-python",
   "name": "python",
   "nbconvert_exporter": "python",
   "pygments_lexer": "ipython2",
   "version": "2.7.12"
  }
 },
 "nbformat": 4,
 "nbformat_minor": 1
}
